{
  "nbformat": 4,
  "nbformat_minor": 0,
  "metadata": {
    "colab": {
      "provenance": [],
      "include_colab_link": true
    },
    "kernelspec": {
      "name": "python3",
      "display_name": "Python 3"
    },
    "language_info": {
      "name": "python"
    }
  },
  "cells": [
    {
      "cell_type": "markdown",
      "metadata": {
        "id": "view-in-github",
        "colab_type": "text"
      },
      "source": [
        "<a href=\"https://colab.research.google.com/github/pireylow/LSTM-keras-stock-price-prediction/blob/main/Multiple_Tickers.ipynb\" target=\"_parent\"><img src=\"https://colab.research.google.com/assets/colab-badge.svg\" alt=\"Open In Colab\"/></a>"
      ]
    },
    {
      "cell_type": "code",
      "metadata": {
        "id": "tBq1sxuN7SE-",
        "colab": {
          "base_uri": "https://localhost:8080/"
        },
        "outputId": "9c7483ca-bce4-4cb1-d101-06da6a73bd9f"
      },
      "source": [
        "!pip install yfinance\n"
      ],
      "execution_count": 16,
      "outputs": [
        {
          "output_type": "stream",
          "name": "stdout",
          "text": [
            "Requirement already satisfied: yfinance in /usr/local/lib/python3.10/dist-packages (0.2.22)\n",
            "Requirement already satisfied: pandas>=1.3.0 in /usr/local/lib/python3.10/dist-packages (from yfinance) (1.5.3)\n",
            "Requirement already satisfied: numpy>=1.16.5 in /usr/local/lib/python3.10/dist-packages (from yfinance) (1.22.4)\n",
            "Requirement already satisfied: requests>=2.26 in /usr/local/lib/python3.10/dist-packages (from yfinance) (2.27.1)\n",
            "Requirement already satisfied: multitasking>=0.0.7 in /usr/local/lib/python3.10/dist-packages (from yfinance) (0.0.11)\n",
            "Requirement already satisfied: lxml>=4.9.1 in /usr/local/lib/python3.10/dist-packages (from yfinance) (4.9.3)\n",
            "Requirement already satisfied: appdirs>=1.4.4 in /usr/local/lib/python3.10/dist-packages (from yfinance) (1.4.4)\n",
            "Requirement already satisfied: pytz>=2022.5 in /usr/local/lib/python3.10/dist-packages (from yfinance) (2022.7.1)\n",
            "Requirement already satisfied: frozendict>=2.3.4 in /usr/local/lib/python3.10/dist-packages (from yfinance) (2.3.8)\n",
            "Requirement already satisfied: beautifulsoup4>=4.11.1 in /usr/local/lib/python3.10/dist-packages (from yfinance) (4.11.2)\n",
            "Requirement already satisfied: html5lib>=1.1 in /usr/local/lib/python3.10/dist-packages (from yfinance) (1.1)\n",
            "Requirement already satisfied: soupsieve>1.2 in /usr/local/lib/python3.10/dist-packages (from beautifulsoup4>=4.11.1->yfinance) (2.4.1)\n",
            "Requirement already satisfied: six>=1.9 in /usr/local/lib/python3.10/dist-packages (from html5lib>=1.1->yfinance) (1.16.0)\n",
            "Requirement already satisfied: webencodings in /usr/local/lib/python3.10/dist-packages (from html5lib>=1.1->yfinance) (0.5.1)\n",
            "Requirement already satisfied: python-dateutil>=2.8.1 in /usr/local/lib/python3.10/dist-packages (from pandas>=1.3.0->yfinance) (2.8.2)\n",
            "Requirement already satisfied: urllib3<1.27,>=1.21.1 in /usr/local/lib/python3.10/dist-packages (from requests>=2.26->yfinance) (1.26.16)\n",
            "Requirement already satisfied: certifi>=2017.4.17 in /usr/local/lib/python3.10/dist-packages (from requests>=2.26->yfinance) (2023.5.7)\n",
            "Requirement already satisfied: charset-normalizer~=2.0.0 in /usr/local/lib/python3.10/dist-packages (from requests>=2.26->yfinance) (2.0.12)\n",
            "Requirement already satisfied: idna<4,>=2.5 in /usr/local/lib/python3.10/dist-packages (from requests>=2.26->yfinance) (3.4)\n"
          ]
        }
      ]
    },
    {
      "cell_type": "code",
      "metadata": {
        "id": "CjykWEG98FaS"
      },
      "source": [
        "#import necessary modules\n",
        "import random\n",
        "import numpy as np\n",
        "import pandas as pd\n",
        "from pandas_datareader import data as pdr\n",
        "import matplotlib.pyplot as plt\n",
        "import yfinance as yf\n",
        "yf.pdr_override()\n",
        "\n",
        "from mpl_toolkits.mplot3d import Axes3D\n",
        "from matplotlib import cm\n",
        "from matplotlib.ticker import LinearLocator, FormatStrFormatter\n",
        "\n"
      ],
      "execution_count": 17,
      "outputs": []
    },
    {
      "cell_type": "code",
      "metadata": {
        "id": "8YYlcFKW7jSx",
        "colab": {
          "base_uri": "https://localhost:8080/"
        },
        "outputId": "33f6ef0f-c56d-4e78-a8fc-e8815f59455f"
      },
      "source": [
        "#set stock information\n",
        "ticker = 'SPY'\n",
        "startdate = '2018-01-01'\n",
        "enddate = '2023-01-01'\n",
        "\n",
        "start = pd.to_datetime(startdate)\n",
        "end = pd.to_datetime(enddate)\n",
        "sdata = pdr.get_data_yahoo(ticker, start=start, end=end)\n",
        "\n",
        "columnsTitles=['Open','High','Low','Close','Volume','Adj Close']\n",
        "sdata=sdata.reindex(columns=columnsTitles)\n",
        "\n",
        "close=sdata['Close']\n"
      ],
      "execution_count": 18,
      "outputs": [
        {
          "output_type": "stream",
          "name": "stdout",
          "text": [
            "\r[*********************100%***********************]  1 of 1 completed\n"
          ]
        }
      ]
    },
    {
      "cell_type": "code",
      "metadata": {
        "id": "TGDWqn6ufc79"
      },
      "source": [
        "def MA_strategy1(close, fast_val, slow_val, sma = True):\n",
        "\n",
        "  if sma:\n",
        "    short_rolling = close.rolling(window=fast_val).mean()\n",
        "    long_rolling = close.rolling(window=slow_val).mean()\n",
        "  else:\n",
        "    short_rolling = close.ewm(span=fast_val, adjust=False).mean()\n",
        "    long_rolling = close.ewm(span=slow_val, adjust=False).mean()\n",
        "\n",
        "  time_counter = 250\n",
        "  profit = 0\n",
        "  FF_loop_flag = True\n",
        "  while FF_loop_flag:\n",
        "\n",
        "    #FF to first up cross and save the entry price\n",
        "    FF_loop_flag = True\n",
        "    while FF_loop_flag and short_rolling[time_counter] <= long_rolling[time_counter]:\n",
        "      time_counter += 1\n",
        "      if time_counter >= len(short_rolling):\n",
        "        FF_loop_flag = False\n",
        "        time_counter -= 1\n",
        "    entry_price = close[time_counter]\n",
        "\n",
        "    #FF to first close below slow MA and save the entry price\n",
        "    while FF_loop_flag and close[time_counter] >= long_rolling[time_counter]:\n",
        "      time_counter += 1\n",
        "      if time_counter >= len(short_rolling):\n",
        "        FF_loop_flag = False\n",
        "        time_counter -= 1\n",
        "    exit_price = close[time_counter]\n",
        "    profit = profit + (exit_price - entry_price)\n",
        "\n",
        "\n",
        "    #FF to first MA down cross to set up for next buy signal\n",
        "    while FF_loop_flag and short_rolling[time_counter] >= long_rolling[time_counter]:\n",
        "      time_counter += 1\n",
        "      if time_counter >= len(short_rolling):\n",
        "        FF_loop_flag = False\n",
        "        time_counter -= 1\n",
        "\n",
        "  return profit\n"
      ],
      "execution_count": 19,
      "outputs": []
    },
    {
      "cell_type": "code",
      "metadata": {
        "id": "AlZNh0hV8wrG",
        "colab": {
          "base_uri": "https://localhost:8080/"
        },
        "outputId": "88c0211c-e121-441f-cddc-c5370a7b1550"
      },
      "source": [
        "\n",
        "\n",
        "#set up slowperiod and fastperiod values\n",
        "fastminval = 3\n",
        "fastmaxval = 50\n",
        "fastvec = list(range(fastminval, fastmaxval+1))\n",
        "slowmult = [2.5,3,3.5,4,4.5,5]\n",
        "slowlist = []\n",
        "fastlist = []\n",
        "for fastPeriod in fastvec:\n",
        "  tmp_slow = []\n",
        "  tmp_fast = []\n",
        "  for multval in slowmult:\n",
        "    tmp_slow.append(int(multval*fastPeriod))\n",
        "    tmp_fast.append(fastPeriod)\n",
        "  slowlist.append(tmp_slow)\n",
        "  fastlist.append(tmp_fast)\n",
        "\n",
        "\n",
        "#set stock information\n",
        "tickers = ['SPY', 'DIA', 'QQQ', 'IWM', 'AAPL', 'TSLA', 'GS', 'MA', 'V']\n",
        "startdate = '2018-01-01'\n",
        "enddate = '2023-01-01'\n",
        "start = pd.to_datetime(startdate)\n",
        "end = pd.to_datetime(enddate)\n",
        "\n",
        "#test some tickers\n",
        "results = { }\n",
        "for ticker in tickers:\n",
        "\n",
        "  print(ticker)\n",
        "\n",
        "  sdata = pdr.get_data_yahoo(ticker, start=start, end=end)\n",
        "  columnsTitles=['Open','High','Low','Close','Volume','Adj Close']\n",
        "  sdata=sdata.reindex(columns=columnsTitles)\n",
        "  close=sdata['Close']\n",
        "\n",
        "  #backtest each fastperiod/slowperiod pair\n",
        "  net_profit_list = []\n",
        "  for i in range(len(fastvec)):\n",
        "    fastPeriod = fastvec[i]\n",
        "    tmp_profit_list = []\n",
        "    for slowPeriod in slowlist[i]:\n",
        "\n",
        "      #print([fastPeriod,slowPeriod])\n",
        "      tmp_profit_list.append(MA_strategy1(close, fastPeriod, slowPeriod, sma = False))\n",
        "\n",
        "    net_profit_list.append(tmp_profit_list)\n",
        "\n",
        "  #Surface plot of profitability ...\n",
        "  fast_length=len(fastvec)\n",
        "  slow_length=len(slowmult)\n",
        "  X = np.zeros((fast_length,slow_length))\n",
        "  Y = np.zeros((fast_length,slow_length))\n",
        "  Z = np.zeros((fast_length,slow_length))\n",
        "  for i in range(fast_length):\n",
        "    for j in range(slow_length):\n",
        "      X[i,j] = fastlist[i][j]\n",
        "      Y[i,j] = slowlist[i][j]\n",
        "      Z[i,j] = net_profit_list[i][j]\n",
        "  maxptr = np.unravel_index(np.argmax(Z, axis=None), Z.shape)\n",
        "  results[ticker] = [Z[maxptr], int(X[maxptr]), int(Y[maxptr])]\n",
        "\n",
        "\n",
        "\n"
      ],
      "execution_count": 20,
      "outputs": [
        {
          "output_type": "stream",
          "name": "stdout",
          "text": [
            "SPY\n",
            "[*********************100%***********************]  1 of 1 completed\n",
            "DIA\n",
            "[*********************100%***********************]  1 of 1 completed\n",
            "QQQ\n",
            "[*********************100%***********************]  1 of 1 completed\n",
            "IWM\n",
            "[*********************100%***********************]  1 of 1 completed\n",
            "AAPL\n",
            "[*********************100%***********************]  1 of 1 completed\n",
            "TSLA\n",
            "[*********************100%***********************]  1 of 1 completed\n",
            "GS\n",
            "[*********************100%***********************]  1 of 1 completed\n",
            "MA\n",
            "[*********************100%***********************]  1 of 1 completed\n",
            "V\n",
            "[*********************100%***********************]  1 of 1 completed\n"
          ]
        }
      ]
    },
    {
      "cell_type": "code",
      "metadata": {
        "id": "_JDMbdM_NWLp",
        "colab": {
          "base_uri": "https://localhost:8080/"
        },
        "outputId": "d575993f-5357-430f-8e83-500e83d329c0"
      },
      "source": [
        "results"
      ],
      "execution_count": 21,
      "outputs": [
        {
          "output_type": "execute_result",
          "data": {
            "text/plain": [
              "{'SPY': [140.41998291015625, 28, 126],\n",
              " 'DIA': [122.32997131347656, 5, 15],\n",
              " 'QQQ': [164.62998962402344, 45, 157],\n",
              " 'IWM': [49.029998779296875, 7, 21],\n",
              " 'AAPL': [89.66755676269531, 4, 12],\n",
              " 'TSLA': [322.94729137420654, 3, 7],\n",
              " 'GS': [244.72999572753906, 3, 12],\n",
              " 'MA': [51.03997802734375, 23, 92],\n",
              " 'V': [27.449996948242188, 49, 147]}"
            ]
          },
          "metadata": {},
          "execution_count": 21
        }
      ]
    }
  ]
}